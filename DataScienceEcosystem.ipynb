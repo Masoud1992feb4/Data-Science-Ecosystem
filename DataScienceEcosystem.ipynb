{
 "cells": [
  {
   "cell_type": "markdown",
   "id": "6c5cd30d-b1a4-4adc-9d5c-e781d2d154f1",
   "metadata": {},
   "source": [
    "# Data Science Tools and Ecosystem"
   ]
  },
  {
   "cell_type": "markdown",
   "id": "ccd19285-aa20-4aa3-a92a-bf286d60eaf6",
   "metadata": {},
   "source": [
    "In this notebook, Data Science Tools and Ecosystem are summarized."
   ]
  },
  {
   "cell_type": "markdown",
   "id": "40e2b79b-664c-40cb-b830-24399c12110a",
   "metadata": {},
   "source": [
    "Some of the popular languages that Data Scientists use are:\n",
    "1. Python\n",
    "2. R\n",
    "3. SQL\n",
    "4. Julia\n",
    "5. Scala\n",
    "6. MATLAB"
   ]
  },
  {
   "cell_type": "markdown",
   "id": "7782d767-b038-4ded-b761-979f334ed227",
   "metadata": {},
   "source": [
    "Some of the commonly used libraries used by Data Scientists include:\n",
    "1. Pandas\n",
    "2. NumPy\n",
    "3. Dask\n",
    "4. Matplotlib\n",
    "5. Seaborn\n",
    "6. Plotly\n",
    "7. ggplot2"
   ]
  },
  {
   "attachments": {},
   "cell_type": "markdown",
   "id": "506fd81f-3e6a-4796-ac62-9616b1621c74",
   "metadata": {},
   "source": [
    "|Data Science Tools|\n",
    "|-------------------|\n",
    "|1. Jupyter Notebooks / JupyterLab|\n",
    "|2. RStudio|\n",
    "|3. VSCode (Visual Studio Code)|\n",
    "|4. Anaconda|\n",
    "|5. Spyder|\n",
    "|6. Zeppelin|"
   ]
  },
  {
   "attachments": {},
   "cell_type": "markdown",
   "id": "48794e62-1140-4059-9c82-4eed022cfc58",
   "metadata": {},
   "source": [
    "### Below are a few examples of evaluating arithmetic expressions in Python"
   ]
  },
  {
   "cell_type": "code",
   "execution_count": 1,
   "id": "3f34f80b-3f2a-41a2-a2ad-0dbbac642806",
   "metadata": {},
   "outputs": [
    {
     "data": {
      "text/plain": [
       "17"
      ]
     },
     "execution_count": 1,
     "metadata": {},
     "output_type": "execute_result"
    }
   ],
   "source": [
    "#This is a simple arithmetic expression to multy then add integers\n",
    "(3*4)+5"
   ]
  },
  {
   "cell_type": "code",
   "execution_count": 2,
   "id": "71d73835-6526-4b6b-be8c-d72688a89166",
   "metadata": {},
   "outputs": [
    {
     "data": {
      "text/plain": [
       "3"
      ]
     },
     "execution_count": 2,
     "metadata": {},
     "output_type": "execute_result"
    }
   ],
   "source": [
    "#This will convert 200 minutes to hours by diving by 60\n",
    "200//60"
   ]
  },
  {
   "cell_type": "markdown",
   "id": "6cc4ea61-d3b0-4e41-8a34-f15a0ecf9520",
   "metadata": {},
   "source": [
    "# List popular languages for Data Science:\n",
    "* Jupyter Notebooks / JupyterLab\n",
    "* RStudio\n",
    "* VSCode (Visual Studio Code)\n",
    "* Anaconda\n",
    "* Spyder\n",
    "* Zeppelin"
   ]
  },
  {
   "cell_type": "markdown",
   "id": "713b7767-a845-42d7-bad5-6e261ae81863",
   "metadata": {},
   "source": [
    "## Author\n",
    "Masoud Tahaghoghi"
   ]
  },
  {
   "cell_type": "code",
   "execution_count": null,
   "id": "3cff2f7a-fb2b-4e94-8ca2-2098aa2a0e4b",
   "metadata": {},
   "outputs": [],
   "source": []
  }
 ],
 "metadata": {
  "kernelspec": {
   "display_name": "Python 3 (ipykernel)",
   "language": "python",
   "name": "python3"
  },
  "language_info": {
   "codemirror_mode": {
    "name": "ipython",
    "version": 3
   },
   "file_extension": ".py",
   "mimetype": "text/x-python",
   "name": "python",
   "nbconvert_exporter": "python",
   "pygments_lexer": "ipython3",
   "version": "3.13.0"
  }
 },
 "nbformat": 4,
 "nbformat_minor": 5
}
